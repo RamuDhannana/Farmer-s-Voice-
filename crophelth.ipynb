{
 "cells": [
  {
   "cell_type": "code",
   "execution_count": 1,
   "id": "d1b42595",
   "metadata": {},
   "outputs": [],
   "source": [
    "class_labels = ['Apple___Apple_scab', 'Apple___Black_rot', 'Apple___Cedar_apple_rust', 'Apple___healthy', 'Blueberry___healthy', 'Cherry_(including_sour)___Powdery_mildew', 'Cherry_(including_sour)___healthy', 'Corn_(maize)___Cercospora_leaf_spot Gray_leaf_spot', 'Corn_(maize)___Common_rust_', 'Corn_(maize)___Northern_Leaf_Blight', 'Corn_(maize)___healthy', 'Grape___Black_rot', 'Grape___Esca_(Black_Measles)', 'Grape___Leaf_blight_(Isariopsis_Leaf_Spot)', 'Grape___healthy', 'Orange___Haunglongbing_(Citrus_greening)', 'Peach___Bacterial_spot', 'Peach___healthy', 'Pepper,_bell___Bacterial_spot', 'Pepper,_bell___healthy', 'Potato___Early_blight', 'Potato___Late_blight', 'Potato___healthy', 'Raspberry___healthy', 'Soybean___healthy', 'Squash___Powdery_mildew', 'Strawberry___Leaf_scorch', 'Strawberry___healthy', 'Tomato___Bacterial_spot', 'Tomato___Early_blight', 'Tomato___Late_blight', 'Tomato___Leaf_Mold', 'Tomato___Septoria_leaf_spot', 'Tomato___Spider_mites Two-spotted_spider_mite', 'Tomato___Target_Spot', 'Tomato___Tomato_Yellow_Leaf_Curl_Virus', 'Tomato___Tomato_mosaic_virus', 'Tomato___healthy']"
   ]
  },
  {
   "cell_type": "code",
   "execution_count": 1,
   "id": "1b0ce3cd",
   "metadata": {},
   "outputs": [
    {
     "name": "stdout",
     "output_type": "stream",
     "text": [
      "Found 70295 images belonging to 38 classes.\n",
      "Found 33 images belonging to 1 classes.\n",
      "Epoch 1/10\n",
      "2197/2197 [==============================] - 1227s 558ms/step - loss: 1.1408 - accuracy: 0.6670 - val_loss: 543.6508 - val_accuracy: 0.0303\n",
      "Epoch 2/10\n",
      "2197/2197 [==============================] - 6145s 3s/step - loss: 0.4084 - accuracy: 0.8712 - val_loss: 665.9278 - val_accuracy: 0.0303\n",
      "Epoch 3/10\n",
      "2197/2197 [==============================] - 1218s 555ms/step - loss: 0.2281 - accuracy: 0.9252 - val_loss: 806.4150 - val_accuracy: 0.0303\n",
      "Epoch 4/10\n",
      "2197/2197 [==============================] - 1217s 554ms/step - loss: 0.1444 - accuracy: 0.9530 - val_loss: 1026.7629 - val_accuracy: 0.0303\n",
      "Epoch 5/10\n",
      "2197/2197 [==============================] - 1222s 556ms/step - loss: 0.0968 - accuracy: 0.9674 - val_loss: 1057.5195 - val_accuracy: 0.0303\n",
      "Epoch 6/10\n",
      "2197/2197 [==============================] - 1233s 561ms/step - loss: 0.0783 - accuracy: 0.9737 - val_loss: 1216.6119 - val_accuracy: 0.0303\n",
      "Epoch 7/10\n",
      "2197/2197 [==============================] - 1219s 555ms/step - loss: 0.0644 - accuracy: 0.9782 - val_loss: 1285.8655 - val_accuracy: 0.0303\n",
      "Epoch 8/10\n",
      "2197/2197 [==============================] - 1235s 562ms/step - loss: 0.0575 - accuracy: 0.9810 - val_loss: 1419.5029 - val_accuracy: 0.0303\n",
      "Epoch 9/10\n",
      "2197/2197 [==============================] - 1223s 557ms/step - loss: 0.0525 - accuracy: 0.9824 - val_loss: 1513.2924 - val_accuracy: 0.0606\n",
      "Epoch 10/10\n",
      "2197/2197 [==============================] - 1233s 561ms/step - loss: 0.0459 - accuracy: 0.9849 - val_loss: 1618.1567 - val_accuracy: 0.0606\n"
     ]
    }
   ],
   "source": [
    "import tensorflow as tf\n",
    "from tensorflow.keras.preprocessing.image import ImageDataGenerator\n",
    "from tensorflow.keras.models import Sequential\n",
    "from tensorflow.keras.layers import Conv2D, MaxPooling2D, Flatten, Dense\n",
    "import pickle\n",
    "\n",
    "# Set the necessary parameters\n",
    "input_shape = (128, 128, 3)  # Input image dimensions\n",
    "num_classes = 38  # Number of disease classes\n",
    "\n",
    "# Define the model architecture\n",
    "model = Sequential()\n",
    "model.add(Conv2D(32, kernel_size=(3, 3), activation='relu', input_shape=input_shape))\n",
    "model.add(MaxPooling2D(pool_size=(2, 2)))\n",
    "model.add(Conv2D(64, kernel_size=(3, 3), activation='relu'))\n",
    "model.add(MaxPooling2D(pool_size=(2, 2)))\n",
    "model.add(Flatten())\n",
    "model.add(Dense(128, activation='relu'))\n",
    "model.add(Dense(num_classes, activation='softmax'))\n",
    "\n",
    "# Compile the model\n",
    "model.compile(loss='categorical_crossentropy', optimizer='adam', metrics=['accuracy'])\n",
    "\n",
    "# Set up data augmentation and preprocessing\n",
    "data_generator = ImageDataGenerator(rescale=1.0/255.0)  # Normalize pixel values\n",
    "\n",
    "# Load and preprocess the training and testing datasets using the data generator\n",
    "train_data = data_generator.flow_from_directory('archive/New Plant Diseases Dataset(Augmented)/New Plant Diseases Dataset(Augmented)/train', target_size=(128, 128), batch_size=32, class_mode='categorical')\n",
    "test_data = data_generator.flow_from_directory('archive/test', target_size=(128, 128), batch_size=32, class_mode='categorical')\n",
    "\n",
    "# Train the model\n",
    "model.fit(train_data, epochs=10, validation_data=test_data)\n",
    "\n",
    "# Save the trained model using pickle\n",
    "with open('cropheaalth.pkl', 'wb') as file:\n",
    "    pickle.dump(model, file)\n",
    "\n"
   ]
  },
  {
   "cell_type": "code",
   "execution_count": null,
   "id": "c0e2b547",
   "metadata": {},
   "outputs": [
    {
     "name": "stdout",
     "output_type": "stream",
     "text": [
      " * Serving Flask app \"__main__\" (lazy loading)\n",
      " * Environment: production\n",
      "\u001b[31m   WARNING: This is a development server. Do not use it in a production deployment.\u001b[0m\n",
      "\u001b[2m   Use a production WSGI server instead.\u001b[0m\n",
      " * Debug mode: off\n"
     ]
    },
    {
     "name": "stderr",
     "output_type": "stream",
     "text": [
      " * Running on http://127.0.0.1:5000/ (Press CTRL+C to quit)\n",
      "127.0.0.1 - - [24/Jun/2023 21:49:58] \"GET / HTTP/1.1\" 200 -\n",
      "127.0.0.1 - - [24/Jun/2023 21:49:58] \"GET /favicon.ico HTTP/1.1\" 404 -\n",
      "[2023-06-24 21:50:08,119] ERROR in app: Exception on /predict [POST]\n",
      "Traceback (most recent call last):\n",
      "  File \"C:\\Users\\admin\\anaconda3\\lib\\site-packages\\flask\\app.py\", line 2447, in wsgi_app\n",
      "    response = self.full_dispatch_request()\n",
      "  File \"C:\\Users\\admin\\anaconda3\\lib\\site-packages\\flask\\app.py\", line 1952, in full_dispatch_request\n",
      "    rv = self.handle_user_exception(e)\n",
      "  File \"C:\\Users\\admin\\anaconda3\\lib\\site-packages\\flask\\app.py\", line 1821, in handle_user_exception\n",
      "    reraise(exc_type, exc_value, tb)\n",
      "  File \"C:\\Users\\admin\\anaconda3\\lib\\site-packages\\flask\\_compat.py\", line 39, in reraise\n",
      "    raise value\n",
      "  File \"C:\\Users\\admin\\anaconda3\\lib\\site-packages\\flask\\app.py\", line 1950, in full_dispatch_request\n",
      "    rv = self.dispatch_request()\n",
      "  File \"C:\\Users\\admin\\anaconda3\\lib\\site-packages\\flask\\app.py\", line 1936, in dispatch_request\n",
      "    return self.view_functions[rule.endpoint](**req.view_args)\n",
      "  File \"C:\\Users\\admin\\AppData\\Local\\Temp\\ipykernel_2572\\248648309.py\", line 35, in predict\n",
      "    preprocessed_img = preprocess_image(img)\n",
      "  File \"C:\\Users\\admin\\AppData\\Local\\Temp\\ipykernel_2572\\248648309.py\", line 14, in preprocess_image\n",
      "    img = Image.open(image_path)\n",
      "  File \"C:\\Users\\admin\\anaconda3\\lib\\site-packages\\PIL\\Image.py\", line 3101, in open\n",
      "    prefix = fp.read(16)\n",
      "  File \"C:\\Users\\admin\\anaconda3\\lib\\site-packages\\PIL\\Image.py\", line 517, in __getattr__\n",
      "    raise AttributeError(name)\n",
      "AttributeError: read\n",
      "127.0.0.1 - - [24/Jun/2023 21:50:08] \"POST /predict HTTP/1.1\" 500 -\n"
     ]
    }
   ],
   "source": [
    "from flask import Flask, render_template, request\n",
    "from PIL import Image\n",
    "import numpy as np\n",
    "import pickle\n",
    "\n",
    "app = Flask(__name__)\n",
    "\n",
    "# Load the trained model\n",
    "with open('trained_model.pkl', 'rb') as file:\n",
    "    loaded_model = pickle.load(file)\n",
    "\n",
    "\n",
    "def preprocess_image(image_path):\n",
    "    img = Image.open(image_path)\n",
    "    img = img.resize((150, 150))\n",
    "    img_array = np.array(img)\n",
    "    img_array = img_array / 255.0\n",
    "    img_array = np.expand_dims(img_array, axis=0)\n",
    "    return img_array\n",
    "\n",
    "\n",
    "# Home page\n",
    "@app.route('/')\n",
    "def home():\n",
    "    return render_template('diseases_identification.html')\n",
    "\n",
    "# Prediction page\n",
    "@app.route('/predict', methods=['POST'])\n",
    "def predict():\n",
    "    # Get the user image from the request\n",
    "    user_image = request.files['user_image']\n",
    "    img = Image.open(user_image)\n",
    "\n",
    "    # Preprocess the image\n",
    "    preprocessed_img = preprocess_image(img)\n",
    "\n",
    "    # Make predictions\n",
    "    predictions = loaded_model.predict(preprocessed_img)\n",
    "    predicted_probs = predictions[0]\n",
    "    predicted_index = np.argmax(predicted_probs)\n",
    "    predicted_label = class_labels[predicted_index]\n",
    "\n",
    "    # Render the prediction result\n",
    "    return render_template('result.html', predicted_label=predicted_label)\n",
    "\n",
    "if __name__ == '__main__':\n",
    "    app.run()\n"
   ]
  },
  {
   "cell_type": "code",
   "execution_count": null,
   "id": "3ca52b67",
   "metadata": {},
   "outputs": [],
   "source": []
  }
 ],
 "metadata": {
  "kernelspec": {
   "display_name": "Python 3 (ipykernel)",
   "language": "python",
   "name": "python3"
  },
  "language_info": {
   "codemirror_mode": {
    "name": "ipython",
    "version": 3
   },
   "file_extension": ".py",
   "mimetype": "text/x-python",
   "name": "python",
   "nbconvert_exporter": "python",
   "pygments_lexer": "ipython3",
   "version": "3.9.13"
  }
 },
 "nbformat": 4,
 "nbformat_minor": 5
}

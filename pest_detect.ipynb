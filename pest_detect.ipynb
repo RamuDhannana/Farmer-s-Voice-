{
 "cells": [
  {
   "cell_type": "code",
   "execution_count": null,
   "id": "61fa793d",
   "metadata": {},
   "outputs": [
    {
     "name": "stdout",
     "output_type": "stream",
     "text": [
      "1/1 [==============================] - 0s 125ms/step\n",
      "Predicted Label: Pest-Free\n"
     ]
    }
   ],
   "source": [
    "import pickle\n",
    "import numpy as np\n",
    "from PIL import Image\n",
    "\n",
    "# Load the model from the .pkl file\n",
    "with open('trained_model.pkl', 'rb') as file:\n",
    "    loaded_model = pickle.load(file)\n",
    "\n",
    "# Function to predict the label for an input image using the loaded model\n",
    "def predict_label(image_path, threshold=0.5):\n",
    "    img = Image.open(image_path).resize((150, 150))\n",
    "    x = np.array(img)\n",
    "    x = np.expand_dims(x, axis=0)\n",
    "    x = x / 255.0\n",
    "    prediction = loaded_model.predict(x)\n",
    "    max_prediction = np.max(prediction)\n",
    "    if max_prediction >= threshold:\n",
    "        label_index = np.argmax(prediction)\n",
    "        label = labels[label_index]\n",
    "        return label\n",
    "    else:\n",
    "        return \"Pest-Free\"\n",
    "\n",
    "# Example usage\n",
    "image_path = 'archive1/classification/train/1/01115.jpg'\n",
    "predicted_label = predict_label(image_path)\n",
    "print('Predicted Label:', predicted_label)\n"
   ]
  },
  {
   "cell_type": "code",
   "execution_count": null,
   "id": "9bc53fee",
   "metadata": {},
   "outputs": [],
   "source": []
  }
 ],
 "metadata": {
  "kernelspec": {
   "display_name": "Python 3 (ipykernel)",
   "language": "python",
   "name": "python3"
  },
  "language_info": {
   "codemirror_mode": {
    "name": "ipython",
    "version": 3
   },
   "file_extension": ".py",
   "mimetype": "text/x-python",
   "name": "python",
   "nbconvert_exporter": "python",
   "pygments_lexer": "ipython3",
   "version": "3.9.13"
  }
 },
 "nbformat": 4,
 "nbformat_minor": 5
}
